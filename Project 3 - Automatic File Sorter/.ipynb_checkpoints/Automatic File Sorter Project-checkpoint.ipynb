{
 "cells": [
  {
   "cell_type": "markdown",
   "id": "03f1db6c-0b81-4266-8c66-a57b16896ee9",
   "metadata": {},
   "source": [
    "# Automatic File Sorter Project"
   ]
  },
  {
   "cell_type": "code",
   "execution_count": 35,
   "id": "fa330c5d-2ad5-4311-a397-6c8a6e791da7",
   "metadata": {},
   "outputs": [],
   "source": [
    "import os, shutil"
   ]
  },
  {
   "cell_type": "code",
   "execution_count": 37,
   "id": "f038e095-6a63-4935-ae32-8749caad066f",
   "metadata": {},
   "outputs": [],
   "source": [
    "path = r'C:\\Users\\Khurshidbek\\Desktop\\Resources\\13 - Project 3 - Automatic File Sorter\\\\'"
   ]
  },
  {
   "cell_type": "code",
   "execution_count": 39,
   "id": "b85e39e7-11e4-46c5-b489-c0b2079ab701",
   "metadata": {},
   "outputs": [
    {
     "data": {
      "text/plain": [
       "['.ipynb_checkpoints',\n",
       " 'Automatic File Sorter Project.ipynb',\n",
       " 'CSV files',\n",
       " 'CSV1.csv',\n",
       " 'CSV2.csv',\n",
       " 'CSV3.csv',\n",
       " 'Images files',\n",
       " 'IMG1.png',\n",
       " 'IMG2.png',\n",
       " 'IMG3.png',\n",
       " 'Text1.txt',\n",
       " 'Text2.txt',\n",
       " 'Text3.txt',\n",
       " 'Texts files']"
      ]
     },
     "execution_count": 39,
     "metadata": {},
     "output_type": "execute_result"
    }
   ],
   "source": [
    "os.listdir(path)"
   ]
  },
  {
   "cell_type": "code",
   "execution_count": 41,
   "id": "db41b71b-3014-48e8-8664-b9922b7ccfeb",
   "metadata": {},
   "outputs": [],
   "source": [
    "folder_names = ['CSV files', 'Images files', 'Texts files']\n",
    "\n",
    "for folder in folder_names:\n",
    "    if not os.path.exists(path + folder):\n",
    "        os.makedirs(path + folder)"
   ]
  },
  {
   "cell_type": "code",
   "execution_count": 45,
   "id": "5e111140-8dad-4167-9b80-8161421c3cc6",
   "metadata": {},
   "outputs": [],
   "source": [
    "file_names = os.listdir()"
   ]
  },
  {
   "cell_type": "code",
   "execution_count": 71,
   "id": "d06ac56a-df57-4cc2-88d6-46fda6167593",
   "metadata": {},
   "outputs": [
    {
     "name": "stdout",
     "output_type": "stream",
     "text": [
      "Kerakli hujjatlar joylashtirildi\n"
     ]
    }
   ],
   "source": [
    "for file in file_names:\n",
    "    if '.csv' in file and not os.path.exists(path + \"CSV files\\\\\" + file):\n",
    "        shutil.move(file, path + \"CSV files\\\\\" + file)\n",
    "    elif '.txt' in file and not os.path.exists(path + \"Texts files\\\\\" + file):\n",
    "        shutil.move(file, path + \"Texts files\\\\\" + file)\n",
    "    elif '.png' in file and not os.path.exists(path + \"Images files\\\\\" + file):\n",
    "        shutil.move(file, path + \"Images files\\\\\" + file)\n",
    "print('Kerakli hujjatlar joylashtirildi')\n",
    "        "
   ]
  },
  {
   "cell_type": "code",
   "execution_count": null,
   "id": "2361229b-0754-4f84-add4-ce3588e5f9af",
   "metadata": {},
   "outputs": [],
   "source": []
  }
 ],
 "metadata": {
  "kernelspec": {
   "display_name": "Python 3 (ipykernel)",
   "language": "python",
   "name": "python3"
  },
  "language_info": {
   "codemirror_mode": {
    "name": "ipython",
    "version": 3
   },
   "file_extension": ".py",
   "mimetype": "text/x-python",
   "name": "python",
   "nbconvert_exporter": "python",
   "pygments_lexer": "ipython3",
   "version": "3.12.4"
  }
 },
 "nbformat": 4,
 "nbformat_minor": 5
}

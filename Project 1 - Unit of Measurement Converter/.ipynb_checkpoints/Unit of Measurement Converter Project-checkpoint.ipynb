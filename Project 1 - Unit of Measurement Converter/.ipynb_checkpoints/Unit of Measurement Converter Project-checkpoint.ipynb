{
 "cells": [
  {
   "cell_type": "code",
   "execution_count": 15,
   "id": "b83dd5b1-857e-486f-9879-1ef1555f7477",
   "metadata": {},
   "outputs": [
    {
     "name": "stdin",
     "output_type": "stream",
     "text": [
      "Enter Starting Unit of Measurement (inches, feet, yards):  yrd\n",
      "Enter Unit of Measurement to Convert to (inches, feet, yards):  inch\n",
      "Enter Starting Measurement in Yards:  15\n"
     ]
    },
    {
     "name": "stdout",
     "output_type": "stream",
     "text": [
      "540\n"
     ]
    }
   ],
   "source": [
    "convert_from = input(\"Enter Starting Unit of Measurement (inches, feet, yards): \")\n",
    "\n",
    "convert_to = input(\"Enter Unit of Measurement to Convert to (inches, feet, yards): \")\n",
    "\n",
    "if convert_from.lower() in [\"inches\", \"in\", \"inch\"]:\n",
    "    number_of_inches = int(input(\"Enter Starting Measurement in Inches: \"))\n",
    "    if convert_to.lower() in [\"feet\", \"ft\"]:\n",
    "        print(number_of_inches/12)\n",
    "    elif convert_to.lower() in [\"yards\", \"yrd\"]:\n",
    "        print(number_of_inches/36)\n",
    "    else:\n",
    "        print(\"Your input was incorrect\")\n",
    "elif convert_from.lower() in [\"feet\", \"ft\"]:\n",
    "    number_of_feet = int(input(\"Enter Starting Measurement in Feet: \"))\n",
    "    if convert_to.lower() in [\"yards\", \"yrd\"]:\n",
    "        print(number_of_feet/3)\n",
    "    elif convert_to.lower() in [\"inches\", \"in\", \"inch\"]:\n",
    "        print(number_of_feet*12)\n",
    "    else:\n",
    "        print(\"Your input was incorrect\")\n",
    "elif convert_from.lower() in [\"yards\", \"yrd\"]:\n",
    "    number_of_yards = int(input(\"Enter Starting Measurement in Yards: \"))\n",
    "    if convert_to.lower() in [\"feet\", \"ft\"]:\n",
    "        print(number_of_yards*3)\n",
    "    elif convert_to.lower() in [\"inches\", \"in\", \"inch\"]:\n",
    "        print(number_of_yards*36)\n",
    "    else:\n",
    "        print(\"Your input was incorrect\")\n",
    "else:\n",
    "        print(\"Your input was incorrect\")"
   ]
  },
  {
   "cell_type": "code",
   "execution_count": null,
   "id": "4285f128-198b-4c63-8efb-0f95dbdcb98e",
   "metadata": {},
   "outputs": [],
   "source": []
  }
 ],
 "metadata": {
  "kernelspec": {
   "display_name": "Python 3 (ipykernel)",
   "language": "python",
   "name": "python3"
  },
  "language_info": {
   "codemirror_mode": {
    "name": "ipython",
    "version": 3
   },
   "file_extension": ".py",
   "mimetype": "text/x-python",
   "name": "python",
   "nbconvert_exporter": "python",
   "pygments_lexer": "ipython3",
   "version": "3.12.4"
  }
 },
 "nbformat": 4,
 "nbformat_minor": 5
}

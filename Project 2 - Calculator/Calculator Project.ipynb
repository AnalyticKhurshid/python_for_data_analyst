{
 "cells": [
  {
   "cell_type": "code",
   "execution_count": 1,
   "id": "b19ffff6-8bee-4034-bf80-ca087e75ac93",
   "metadata": {},
   "outputs": [],
   "source": [
    "def add(x,y):\n",
    "    return x + y\n",
    "\n",
    "def subtract(x,y):\n",
    "    return x - y\n",
    "\n",
    "def multiply(x,y):\n",
    "    return x * y\n",
    "\n",
    "def divide(x,y):\n",
    "    return x / y"
   ]
  },
  {
   "cell_type": "code",
   "execution_count": 25,
   "id": "cc6db217-51d9-4756-b93c-9706785e4293",
   "metadata": {},
   "outputs": [
    {
     "name": "stdin",
     "output_type": "stream",
     "text": [
      "Enter operation what do you want(A,S,M,D): d\n",
      "Enter first number: 15\n",
      "Enter first number: 60\n"
     ]
    },
    {
     "name": "stdout",
     "output_type": "stream",
     "text": [
      "Result: 15.0  /  60.0  =  0.25\n"
     ]
    },
    {
     "name": "stdin",
     "output_type": "stream",
     "text": [
      "Do you want to calculation again? (yes/no):  yes\n",
      "Enter first number: 444\n",
      "Enter first number: 111\n"
     ]
    },
    {
     "name": "stdout",
     "output_type": "stream",
     "text": [
      "Result: 444.0  /  111.0  =  4.0\n"
     ]
    },
    {
     "name": "stdin",
     "output_type": "stream",
     "text": [
      "Do you want to calculation again? (yes/no):  no\n"
     ]
    }
   ],
   "source": [
    "choice = input('Enter operation what do you want(A,S,M,D):')\n",
    "\n",
    "\n",
    "while True:\n",
    "    if choice.upper() in ('A','ADDITION','ADD','S','SUBTRACT','SUBTRACTION','M','MULTIPLY','MULTIPLICATION','D','DIVIDE','DIVISION'):\n",
    "        num1 = float(input('Enter first number:'))\n",
    "        num2 = float(input('Enter first number:'))\n",
    "    \n",
    "        if choice.upper() in ('A','ADDITION','ADD'):\n",
    "            print('Result:',num1,' + ',num2,' = ',add(num1,num2))\n",
    "        elif choice.upper() in ('S','SUBTRACT','SUBTRACTION'):\n",
    "            print('Result:',num1,' - ',num2,' = ',subtract(num1,num2))\n",
    "        elif choice.upper() in ('M','MULTIPLY','MULTIPLICATION'):\n",
    "            print('Result:',num1,' * ',num2,' = ',multiply(num1,num2))\n",
    "        else:\n",
    "            print('Result:',num1,' / ',num2,' = ',divide(num1,num2))\n",
    "    else:\n",
    "        print(\"Your input was incorrect\")\n",
    "    \n",
    "    next_calculation = input('Do you want to calculation again? (yes/no): ')\n",
    "    if next_calculation.lower() in ('no', 'n', 'nope'):\n",
    "        break\n",
    "\n",
    "    "
   ]
  },
  {
   "cell_type": "code",
   "execution_count": null,
   "id": "5a194e5b-b271-4606-b34e-a1cd159c7c1d",
   "metadata": {},
   "outputs": [],
   "source": []
  }
 ],
 "metadata": {
  "kernelspec": {
   "display_name": "Python 3 (ipykernel)",
   "language": "python",
   "name": "python3"
  },
  "language_info": {
   "codemirror_mode": {
    "name": "ipython",
    "version": 3
   },
   "file_extension": ".py",
   "mimetype": "text/x-python",
   "name": "python",
   "nbconvert_exporter": "python",
   "pygments_lexer": "ipython3",
   "version": "3.12.4"
  }
 },
 "nbformat": 4,
 "nbformat_minor": 5
}
